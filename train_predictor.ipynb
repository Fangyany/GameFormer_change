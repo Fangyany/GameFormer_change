{
 "cells": [
  {
   "cell_type": "code",
   "execution_count": 1,
   "metadata": {},
   "outputs": [],
   "source": [
    "import os\n",
    "import csv\n",
    "import torch\n",
    "import argparse\n",
    "import numpy as np\n",
    "from tqdm import tqdm\n",
    "from torch import nn, optim\n",
    "from GameFormer.predictor import GameFormer\n",
    "from torch.utils.data import DataLoader\n",
    "from GameFormer.train_utils import *\n",
    "from common_utils import *\n",
    "from GameFormer.data_utils import *\n",
    "from nuplan.planning.utils.multithreading.worker_parallel import SingleMachineParallelExecutor\n",
    "from nuplan.planning.scenario_builder.scenario_filter import ScenarioFilter\n",
    "from nuplan.planning.scenario_builder.nuplan_db.nuplan_scenario_builder import NuPlanScenarioBuilder\n",
    "from nuplan.planning.scenario_builder.nuplan_db.nuplan_scenario_utils import ScenarioMapping\n",
    "\n",
    "data_path = 'nuplan/dataset/data/cache/train_boston'\n",
    "map_path = 'nuplan/dataset/maps'\n",
    "scenarios_per_type = 1000\n",
    "total_scenarios = None\n",
    "shuffle_scenarios = False\n",
    "debug = False\n",
    "map_version = \"nuplan-maps-v1.0\"\n",
    "sensor_root = None\n",
    "db_files = None\n",
    "\n",
    "scenario_mapping = ScenarioMapping(scenario_map=get_scenario_map(), subsample_ratio_override=0.5)\n",
    "builder = NuPlanScenarioBuilder(data_path, map_path, sensor_root, db_files, map_version, scenario_mapping=scenario_mapping)\n",
    "\n",
    "scenario_filter = ScenarioFilter(*get_filter_parameters(scenarios_per_type, total_scenarios, shuffle_scenarios))\n",
    "worker = SingleMachineParallelExecutor(use_process_pool=True)\n",
    "scenarios = builder.get_scenarios(scenario_filter, worker) "
   ]
  },
  {
   "cell_type": "code",
   "execution_count": 2,
   "metadata": {},
   "outputs": [],
   "source": [
    "# Arguments\n",
    "encoder_layers = 3\n",
    "decoder_levels = 2\n",
    "num_neighbors = 10\n",
    "batch_size = 32\n",
    "device = 'cuda'"
   ]
  },
  {
   "cell_type": "code",
   "execution_count": 3,
   "metadata": {},
   "outputs": [],
   "source": [
    "# set up model\n",
    "gameformer = GameFormer(encoder_layers=encoder_layers, decoder_levels=decoder_levels, neighbors=num_neighbors)\n",
    "gameformer = gameformer.to(device)"
   ]
  },
  {
   "cell_type": "code",
   "execution_count": 4,
   "metadata": {},
   "outputs": [
    {
     "name": "stdout",
     "output_type": "stream",
     "text": [
      "Map name: us-ma-boston\n",
      "Scenario token: 005eca0e9ffb5058\n"
     ]
    }
   ],
   "source": [
    "idx = 10\n",
    "\n",
    "scenario = scenarios[idx]\n",
    "log_name = scenario.log_name\n",
    "map_name = scenario._map_name\n",
    "token = scenario.token\n",
    "print(f\"Map name: {map_name}\")\n",
    "print(f\"Scenario token: {token}\")"
   ]
  },
  {
   "cell_type": "code",
   "execution_count": 5,
   "metadata": {},
   "outputs": [],
   "source": [
    "# set up data loaders\n",
    "# train_set = DrivingData(train_set + '/*.npz', num_neighbors)\n",
    "\n",
    "train_files = ['nuplan/processed_data/train/train_boston' + f'/{map_name}_{token}.npz']\n",
    "train_set = DrivingData(train_files, num_neighbors)\n",
    "train_loader = DataLoader(train_set, batch_size=batch_size, shuffle=False, num_workers=os.cpu_count())"
   ]
  },
  {
   "cell_type": "markdown",
   "metadata": {},
   "source": [
    "### train_epoch"
   ]
  },
  {
   "cell_type": "code",
   "execution_count": 6,
   "metadata": {},
   "outputs": [
    {
     "name": "stderr",
     "output_type": "stream",
     "text": [
      "Training:   0%|          | 0/1 [00:06<?, ?batch/s]\n"
     ]
    }
   ],
   "source": [
    "data_loader = train_loader\n",
    "model = gameformer.eval()\n",
    "weight_path = 'training_log/Exp1/model_epoch_19_valADE_2.4578.pth'\n",
    "checkpoint = torch.load(weight_path)\n",
    "model.load_state_dict(checkpoint)\n",
    "model.eval()\n",
    "\n",
    "# data_epoch: list, len = 7\n",
    "# data_epoch[0]: tensor, shape = torch.Size([32, 21, 7])\n",
    "\n",
    "with tqdm(data_loader, desc=\"Training\", unit=\"batch\") as data_epoch:\n",
    "    for batch in data_epoch:\n",
    "        # prepare data\n",
    "        inputs = {\n",
    "            'ego_agent_past': batch[0].to(device),\n",
    "            'neighbor_agents_past': batch[1].to(device),\n",
    "            'map_lanes': batch[2].to(device),\n",
    "            'map_crosswalks': batch[3].to(device),\n",
    "            'route_lanes': batch[4].to(device)\n",
    "        }\n",
    "          \n",
    "        ego_future = batch[5].to(device)\n",
    "        neighbors_future = batch[6].to(device)\n",
    "        # bool\n",
    "        neighbors_future_valid = torch.ne(neighbors_future[..., :2], 0)\n",
    "\n",
    "        # call the mdoel\n",
    "        level_k_outputs, ego_plan = model(inputs)\n",
    "        loss, results = level_k_loss(level_k_outputs, ego_future, neighbors_future, neighbors_future_valid)\n",
    "        prediction = results[:, 1:]\n",
    "        plan_loss = planning_loss(ego_plan, ego_future)\n",
    "\n",
    "        break"
   ]
  },
  {
   "cell_type": "code",
   "execution_count": 7,
   "metadata": {},
   "outputs": [
    {
     "data": {
      "text/plain": [
       "torch.Size([80, 3])"
      ]
     },
     "execution_count": 7,
     "metadata": {},
     "output_type": "execute_result"
    }
   ],
   "source": [
    "level_k_outputs, ego_plan = gameformer(inputs)\n",
    "ego_plan[0].shape"
   ]
  },
  {
   "cell_type": "code",
   "execution_count": 7,
   "metadata": {},
   "outputs": [],
   "source": [
    "def level_k_loss(outputs, ego_future, neighbors_future, neighbors_future_valid):\n",
    "    loss: torch.tensor = 0 # 初始化一个 PyTorch 张量变量 loss 并将其初始值设置为零\n",
    "\n",
    "    levels = len(outputs.keys()) // 2   # level_k_outputs: traj + score\n",
    "    gt_future = torch.cat([ego_future[:, None], neighbors_future], dim=1)\n",
    "\n",
    "    for k in range(levels):\n",
    "        trajectories = outputs[f'level_{k}_interactions']\n",
    "        scores = outputs[f'level_{k}_scores']\n",
    "        predictions = trajectories[:, 1:] * neighbors_future_valid[:, :, None, :, 0, None]\n",
    "        plan = trajectories[:, :1]\n",
    "        trajectories = torch.cat([plan, predictions], dim=1)\n",
    "        il_loss, future, best_mode = imitation_loss(trajectories, scores, gt_future)\n",
    "        loss += il_loss \n",
    "\n",
    "    return loss, future\n",
    "\n",
    "loss, results = level_k_loss(level_k_outputs, ego_future, neighbors_future, neighbors_future_valid)"
   ]
  },
  {
   "cell_type": "markdown",
   "metadata": {},
   "source": [
    "imitation_loss"
   ]
  },
  {
   "cell_type": "code",
   "execution_count": 9,
   "metadata": {},
   "outputs": [],
   "source": [
    "# il_loss, future, best_mode = imitation_loss(trajectories, scores, gt_future) \n",
    "\n",
    "trajectories = level_k_outputs['level_2_interactions']\n",
    "scores = level_k_outputs['level_2_scores']\n",
    "predictions = trajectories[:, 1:] * neighbors_future_valid[:, :, None, :, 0, None]\n",
    "plan = trajectories[:, :1]\n",
    "trajectories = torch.cat([plan, predictions], dim=1)\n",
    "\n",
    "gt_future = torch.cat([ego_future[:, None], neighbors_future], dim=1)"
   ]
  },
  {
   "cell_type": "code",
   "execution_count": 40,
   "metadata": {},
   "outputs": [
    {
     "name": "stdout",
     "output_type": "stream",
     "text": [
      "torch.Size([1, 11, 80])\n"
     ]
    }
   ],
   "source": [
    "gmm, scores, ground_truth = trajectories, scores, gt_future\n",
    "\n",
    "B, N = gmm.shape[0], gmm.shape[1]\n",
    "distance = torch.norm(gmm[:, :, :, :, :2] - ground_truth[:, :, None, :, :2], dim=-1)\n",
    "best_mode = torch.argmin(distance.mean(-1), dim=-1)\n",
    "\n",
    "mu = gmm[..., :2]\n",
    "best_mode_mu = mu[torch.arange(B)[:, None, None], torch.arange(N)[None, :, None], best_mode[:, :, None]]\n",
    "best_mode_mu = best_mode_mu.squeeze(2)\n",
    "dx = ground_truth[..., 0] - best_mode_mu[..., 0]\n",
    "dy = ground_truth[..., 1] - best_mode_mu[..., 1]\n",
    "\n",
    "cov = gmm[..., 2:]\n",
    "best_mode_cov = cov[torch.arange(B)[:, None, None], torch.arange(N)[None, :, None], best_mode[:, :, None]]\n",
    "best_mode_cov = best_mode_cov.squeeze(2)\n",
    "log_std_x = torch.clamp(best_mode_cov[..., 0], -2, 2)\n",
    "log_std_y = torch.clamp(best_mode_cov[..., 1], -2, 2)\n",
    "std_x = torch.exp(log_std_x)\n",
    "std_y = torch.exp(log_std_y)\n",
    "gmm_loss = log_std_x + log_std_y + 0.5 * (torch.square(dx/std_x) + torch.square(dy/std_y))\n",
    "print(gmm_loss.shape)\n",
    "gmm_loss = torch.mean(gmm_loss)"
   ]
  },
  {
   "cell_type": "code",
   "execution_count": 38,
   "metadata": {},
   "outputs": [],
   "source": [
    "score_loss = F.cross_entropy(scores.permute(0, 2, 1), best_mode, reduction='none')\n",
    "\n",
    "score_loss = score_loss * torch.ne(ground_truth[:, :, 0, 0], 0)\n",
    "score_loss = torch.mean(score_loss)"
   ]
  },
  {
   "cell_type": "code",
   "execution_count": 43,
   "metadata": {},
   "outputs": [
    {
     "data": {
      "text/plain": [
       "tensor([[[ 8.5044e-01, -4.4188e-01, -4.7920e-01],\n",
       "         [ 1.8099e+00, -4.9309e-01, -5.3320e-02],\n",
       "         [ 2.6860e+00, -9.3212e-02,  4.2820e-01],\n",
       "         [ 3.5593e+00,  3.1929e-01,  4.4131e-01],\n",
       "         [ 4.5173e+00,  4.4214e-01,  1.2754e-01],\n",
       "         [ 5.4266e+00,  1.0202e-01, -3.5791e-01],\n",
       "         [ 6.4003e+00,  1.2253e-01,  2.1052e-02],\n",
       "         [ 7.3534e+00,  3.2478e-01,  2.0912e-01],\n",
       "         [ 8.2904e+00,  5.7217e-02, -2.7813e-01],\n",
       "         [ 9.2612e+00,  9.5740e-02,  3.9663e-02],\n",
       "         [ 1.0212e+01,  3.0290e-01,  2.1443e-01],\n",
       "         [ 1.1184e+01,  2.6117e-01, -4.2915e-02],\n",
       "         [ 1.2024e+01, -2.3028e-01, -5.2944e-01],\n",
       "         [ 1.2960e+01, -4.8442e-01, -2.6506e-01],\n",
       "         [ 1.3870e+01, -8.1997e-01, -3.5317e-01],\n",
       "         [ 1.4809e+01, -1.0600e+00, -2.5041e-01],\n",
       "         [ 1.5589e+01, -1.6390e+00, -6.3842e-01],\n",
       "         [ 1.6535e+01, -1.8562e+00, -2.2570e-01],\n",
       "         [ 1.7472e+01, -1.6082e+00,  2.5876e-01],\n",
       "         [ 1.8440e+01, -1.6037e+00,  4.6368e-03],\n",
       "         [ 1.9406e+01, -1.6698e+00, -6.8285e-02],\n",
       "         [ 2.0348e+01, -1.8900e+00, -2.2963e-01],\n",
       "         [ 2.1301e+01, -2.0464e+00, -1.6262e-01],\n",
       "         [ 2.2261e+01, -2.1483e+00, -1.0583e-01],\n",
       "         [ 2.3219e+01, -2.0190e+00,  1.3420e-01],\n",
       "         [ 2.4131e+01, -1.7093e+00,  3.2721e-01],\n",
       "         [ 2.5088e+01, -1.8613e+00, -1.5740e-01],\n",
       "         [ 2.6051e+01, -1.9877e+00, -1.3060e-01],\n",
       "         [ 2.6962e+01, -1.6500e+00,  3.5511e-01],\n",
       "         [ 2.7924e+01, -1.7757e+00, -1.2995e-01],\n",
       "         [ 2.8832e+01, -1.4395e+00,  3.5441e-01],\n",
       "         [ 2.9789e+01, -1.2993e+00,  1.4550e-01],\n",
       "         [ 3.0584e+01, -7.4432e-01,  6.0921e-01],\n",
       "         [ 3.1549e+01, -6.2485e-01,  1.2323e-01],\n",
       "         [ 3.2346e+01, -6.8559e-02,  6.0927e-01],\n",
       "         [ 3.3301e+01,  1.1067e-01,  1.8554e-01],\n",
       "         [ 3.4268e+01,  2.2521e-01,  1.1789e-01],\n",
       "         [ 3.5245e+01,  2.4248e-01,  1.7670e-02],\n",
       "         [ 3.6116e+01, -2.0100e-01, -4.7099e-01],\n",
       "         [ 3.7094e+01, -1.8358e-01,  1.7813e-02],\n",
       "         [ 3.7972e+01,  2.5129e-01,  4.5978e-01],\n",
       "         [ 3.8951e+01,  2.2193e-01, -2.9984e-02],\n",
       "         [ 3.9930e+01,  2.0306e-01, -1.9284e-02],\n",
       "         [ 4.0784e+01, -2.7343e-01, -5.0857e-01],\n",
       "         [ 4.1728e+01, -5.3294e-01, -2.6828e-01],\n",
       "         [ 4.2689e+01, -7.2372e-01, -1.9596e-01],\n",
       "         [ 4.3672e+01, -7.1159e-01,  1.2350e-02],\n",
       "         [ 4.4648e+01, -6.0210e-01,  1.1169e-01],\n",
       "         [ 4.5564e+01, -2.5161e-01,  3.6531e-01],\n",
       "         [ 4.6538e+01, -3.7465e-01, -1.2564e-01],\n",
       "         [ 4.7505e+01, -5.4790e-01, -1.7744e-01],\n",
       "         [ 4.8442e+01, -8.3087e-01, -2.9316e-01],\n",
       "         [ 4.9417e+01, -9.0256e-01, -7.3412e-02],\n",
       "         [ 5.0382e+01, -1.0450e+00, -1.4644e-01],\n",
       "         [ 5.1312e+01, -1.3355e+00, -3.0295e-01],\n",
       "         [ 5.2190e+01, -1.7590e+00, -4.4948e-01],\n",
       "         [ 5.3163e+01, -1.7224e+00,  3.7610e-02],\n",
       "         [ 5.4104e+01, -1.9935e+00, -2.8058e-01],\n",
       "         [ 5.5077e+01, -2.0856e+00, -9.4434e-02],\n",
       "         [ 5.5894e+01, -2.6268e+00, -5.8468e-01],\n",
       "         [ 5.6781e+01, -3.0480e+00, -4.4356e-01],\n",
       "         [ 5.7704e+01, -3.3827e+00, -3.4782e-01],\n",
       "         [ 5.8687e+01, -3.4223e+00, -4.0201e-02],\n",
       "         [ 5.9645e+01, -3.6562e+00, -2.3938e-01],\n",
       "         [ 6.0630e+01, -3.5727e+00,  8.4529e-02],\n",
       "         [ 6.1596e+01, -3.3498e+00,  2.2697e-01],\n",
       "         [ 6.2581e+01, -3.2461e+00,  1.0483e-01],\n",
       "         [ 6.3400e+01, -2.6853e+00,  6.0082e-01],\n",
       "         [ 6.4205e+01, -2.1077e+00,  6.2205e-01],\n",
       "         [ 6.5188e+01, -1.9826e+00,  1.2655e-01],\n",
       "         [ 6.6166e+01, -2.1588e+00, -1.7824e-01],\n",
       "         [ 6.7151e+01, -2.2899e+00, -1.3237e-01],\n",
       "         [ 6.8080e+01, -1.9344e+00,  3.6526e-01],\n",
       "         [ 6.9028e+01, -1.6302e+00,  3.1053e-01],\n",
       "         [ 7.0008e+01, -1.4177e+00,  2.1377e-01],\n",
       "         [ 7.1009e+01, -1.4705e+00, -5.2646e-02],\n",
       "         [ 7.1929e+01, -1.0613e+00,  4.1865e-01],\n",
       "         [ 7.2914e+01, -8.5413e-01,  2.0736e-01],\n",
       "         [ 7.3911e+01, -7.1276e-01,  1.4078e-01],\n",
       "         [ 7.4904e+01, -5.2942e-01,  1.8264e-01]]], device='cuda:0',\n",
       "       grad_fn=<StackBackward0>)"
      ]
     },
     "execution_count": 43,
     "metadata": {},
     "output_type": "execute_result"
    }
   ],
   "source": [
    "ego_plan"
   ]
  },
  {
   "cell_type": "code",
   "execution_count": 8,
   "metadata": {},
   "outputs": [
    {
     "name": "stdout",
     "output_type": "stream",
     "text": [
      "dict_keys(['level_0_interactions', 'level_0_scores', 'level_1_interactions', 'level_1_scores', 'level_2_interactions', 'level_2_scores'])\n",
      "torch.Size([1, 11, 6, 80, 4])\n"
     ]
    }
   ],
   "source": [
    "print(level_k_outputs.keys())\n",
    "#  1 initial decoding layer and 2 interaction decoding layers\n",
    "traj_0 = level_k_outputs['level_0_interactions']\n",
    "print(traj_0.shape)   # shape = N * 6 * 80 * 2\n",
    "traj_1 = level_k_outputs['level_1_interactions']\n",
    "traj_2 = level_k_outputs['level_2_interactions']"
   ]
  },
  {
   "cell_type": "code",
   "execution_count": 11,
   "metadata": {},
   "outputs": [
    {
     "data": {
      "text/plain": [
       "torch.Size([80, 2])"
      ]
     },
     "execution_count": 11,
     "metadata": {},
     "output_type": "execute_result"
    }
   ],
   "source": [
    "traj_0[:, 1:][0][0, 0, :, :2].shape"
   ]
  },
  {
   "cell_type": "code",
   "execution_count": 89,
   "metadata": {},
   "outputs": [
    {
     "name": "stdout",
     "output_type": "stream",
     "text": [
      "obs_traj.shape:  (1, 21, 7)\n",
      "fut_traj.shape:  (1, 80, 3)\n",
      "neighbors_obs.shape:  (1, 20, 21, 11)\n",
      "neighbors_future.shape:  (1, 10, 80, 3)\n",
      "neighbors_future_val.shape:  (1, 10, 80, 2)\n",
      "pred_traj.shape:  (1, 10, 80, 2)\n",
      "plan_traj.shape:  (1, 80, 3)\n",
      "--------------------------------------------------\n",
      "map_lanes.shape:  (1, 40, 50, 7)\n",
      "map_crosswalks.shape:  (1, 5, 30, 3)\n",
      "route_lanes.shape:  (1, 10, 50, 3)\n"
     ]
    }
   ],
   "source": [
    "obs_trajs = inputs['ego_agent_past'].cpu().detach().numpy()\n",
    "nbr_obs_trajs = inputs['neighbor_agents_past'].cpu().detach().numpy()\n",
    "fut_trajs = ego_future.cpu().detach().numpy()\n",
    "nbr_fut_trajs = neighbors_future.cpu().detach().numpy()\n",
    "pred_trajs = prediction.cpu().detach().numpy()\n",
    "plan_trajs = ego_plan.cpu().detach().numpy()\n",
    "neighbors_future_vals = neighbors_future_valid.cpu().detach().numpy()\n",
    "print(\"obs_traj.shape: \", obs_trajs.shape)\n",
    "print(\"fut_traj.shape: \", fut_trajs.shape)\n",
    "print(\"neighbors_obs.shape: \", nbr_obs_trajs.shape)\n",
    "print(\"neighbors_future.shape: \", nbr_fut_trajs.shape)\n",
    "print(\"neighbors_future_val.shape: \", neighbors_future_vals.shape)\n",
    "print(\"pred_traj.shape: \", pred_trajs.shape)\n",
    "print(\"plan_traj.shape: \", plan_trajs.shape)\n",
    "print('--------------------------------------------------')\n",
    "map_lanes = inputs['map_lanes'].cpu().detach().numpy()\n",
    "map_crosswalks = inputs['map_crosswalks'].cpu().detach().numpy()\n",
    "route_lanes = inputs['route_lanes'].cpu().detach().numpy()\n",
    "print(\"map_lanes.shape: \", map_lanes.shape)\n",
    "print(\"map_crosswalks.shape: \", map_crosswalks.shape)\n",
    "print(\"route_lanes.shape: \", route_lanes.shape)\n"
   ]
  },
  {
   "cell_type": "code",
   "execution_count": 90,
   "metadata": {},
   "outputs": [
    {
     "data": {
      "text/plain": [
       "array([[-9.99959843e-01, -8.96172373e-03,  3.32859639e+05],\n",
       "       [ 8.96172373e-03, -9.99959843e-01,  4.68996461e+06],\n",
       "       [ 0.00000000e+00,  0.00000000e+00,  1.00000000e+00]])"
      ]
     },
     "execution_count": 90,
     "metadata": {},
     "output_type": "execute_result"
    }
   ],
   "source": [
    "scenario.initial_ego_state.rear_axle.as_matrix()"
   ]
  },
  {
   "cell_type": "code",
   "execution_count": 91,
   "metadata": {},
   "outputs": [],
   "source": [
    "def convert_relative_to_absolute_path(origin_state, relative_traj):\n",
    "    \"\"\"\n",
    "    根据原点状态将相对轨迹转换为绝对轨迹。\n",
    "    :param origin_state: StateSE2对象，表示原点状态。\n",
    "    :param relative_traj: 相对轨迹的NumPy数组，形状为[N, 2]。\n",
    "    :return: 绝对轨迹的NumPy数组，形状为[N, 2]。\n",
    "    \"\"\"\n",
    "    # 计算旋转矩阵\n",
    "    heading = origin_state.heading\n",
    "    cos_theta = np.cos(heading)\n",
    "    sin_theta = np.sin(heading)\n",
    "    rotation_matrix = np.array([[cos_theta, sin_theta], [-sin_theta, cos_theta]])\n",
    "    \n",
    "    # 应用旋转和平移\n",
    "    absolute_traj = np.dot(relative_traj, rotation_matrix) + np.array([origin_state.x, origin_state.y])\n",
    "    \n",
    "    return absolute_traj\n",
    "\n",
    "\n",
    "def convert_trajs_to_absolute_array(origin_state, traj_list):\n",
    "    \"\"\"\n",
    "    将一系列轨迹从相对坐标转换为绝对坐标，并返回一个 NumPy 数组。\n",
    "    :param origin_state: 原点状态，即转换的基准点。\n",
    "    :param traj_list: 轨迹列表，每个轨迹是一个形状为 [N, 2] 的 numpy 数组。\n",
    "    :return: 转换后的轨迹 NumPy 数组。\n",
    "    \"\"\"\n",
    "    # 使用列表推导式进行转换，并直接将结果转换为 NumPy 数组\n",
    "    return np.array([convert_relative_to_absolute_path(origin_state, traj[:, :2]) for traj in traj_list])\n",
    "\n",
    "def convert_map_to_absolute_array(origin_state, map_data):\n",
    "    \"\"\"\n",
    "    将地图数据从相对坐标转换为绝对坐标，并返回一个 NumPy 数组。\n",
    "    :param origin_state: 原点状态，即转换的基准点。\n",
    "    :param map_data: 地图数据，形状为 [50, 40, 2] 的 numpy 数组。\n",
    "    :return: 转换后的地图数据 NumPy 数组。\n",
    "    \"\"\"\n",
    "    # 初始化转换后的地图数组\n",
    "    absolute_map_data = np.zeros_like(map_data)\n",
    "    \n",
    "    # 遍历每个轨迹（或地图特征）\n",
    "    for i in range(map_data.shape[0]):\n",
    "        for j in range(map_data.shape[1]):\n",
    "            # 提取每个点的相对坐标\n",
    "            relative_point = map_data[i, j, :]\n",
    "            # 将相对坐标转换为绝对坐标\n",
    "            absolute_point = convert_relative_to_absolute_path(origin_state, relative_point[np.newaxis, :])\n",
    "            # 更新转换后的地图数据\n",
    "            absolute_map_data[i, j, :] = absolute_point\n",
    "    \n",
    "    return absolute_map_data\n",
    "\n",
    "\n",
    "origin_state = scenario.initial_ego_state.rear_axle"
   ]
  },
  {
   "cell_type": "code",
   "execution_count": 92,
   "metadata": {},
   "outputs": [
    {
     "name": "stdout",
     "output_type": "stream",
     "text": [
      "nbr number 10\n"
     ]
    },
    {
     "data": {
      "text/plain": [
       "(332643.340625, 332992.659375, 4689950.95, 4689974.050000003)"
      ]
     },
     "execution_count": 92,
     "metadata": {},
     "output_type": "execute_result"
    },
    {
     "data": {
      "image/png": "[encoded data removed]",
      "text/plain": [
       "<Figure size 1000x1000 with 1 Axes>"
      ]
     },
     "metadata": {},
     "output_type": "display_data"
    }
   ],
   "source": [
    "import matplotlib.pyplot as plt\n",
    "\n",
    "batch_idx = 0\n",
    "# obs_traj = obs_trajs[batch_idx]\n",
    "# fut_traj = fut_trajs[batch_idx]\n",
    "# nbr_obs_traj = nbr_obs_trajs[batch_idx]\n",
    "# nbr_fut_traj = nbr_fut_trajs[batch_idx]\n",
    "# pred_traj = pred_trajs[batch_idx]\n",
    "# plan_traj = plan_trajs[batch_idx]\n",
    "# map_lane = map_lanes[batch_idx]\n",
    "# map_crosswalk = map_crosswalks[batch_idx]\n",
    "# route_lane = route_lanes[batch_idx]\n",
    "\n",
    "nbr_fut_val = neighbors_future_vals[batch_idx]\n",
    "neighbors_future_val = neighbors_future_vals[batch_idx]\n",
    "\n",
    "# 处理ego车辆\n",
    "obs_traj = convert_relative_to_absolute_path(origin_state, obs_trajs[batch_idx][:, :2])\n",
    "fut_traj = convert_relative_to_absolute_path(origin_state, fut_trajs[batch_idx][:, :2])\n",
    "plan_traj = convert_relative_to_absolute_path(origin_state, plan_trajs[batch_idx][:, :2])\n",
    "\n",
    "# 处理nbr车辆\n",
    "nbr_obs_traj = convert_trajs_to_absolute_array(origin_state, nbr_obs_trajs[batch_idx])\n",
    "nbr_fut_traj = convert_trajs_to_absolute_array(origin_state, nbr_fut_trajs[batch_idx])\n",
    "pred_traj = convert_trajs_to_absolute_array(origin_state, pred_trajs[batch_idx])\n",
    "\n",
    "# 处理地图\n",
    "map_lane = convert_map_to_absolute_array(origin_state, map_lanes[batch_idx][:, :, :2])\n",
    "map_crosswalk = convert_map_to_absolute_array(origin_state, map_crosswalks[batch_idx][:, :, :2])\n",
    "route_lane = convert_map_to_absolute_array(origin_state, route_lanes[batch_idx][:, :, :2])\n",
    "\n",
    "plt.figure(figsize=(10, 10))\n",
    "# 绘制道路\n",
    "for j in range(len(map_lane)):\n",
    "    if map_lane[j].shape[0] == 0:\n",
    "        continue\n",
    "    plt.scatter(map_lane[j][:, 0], map_lane[j][:, 1], c='grey', marker='x', label='map_lane' if j == 0 else \"\", alpha=0.5)\n",
    "\n",
    "for j in range(len(map_crosswalk)):\n",
    "    if map_crosswalk[j].shape[0] == 0:\n",
    "        continue\n",
    "    plt.scatter(map_crosswalk[j][:, 0], map_crosswalk[j][:, 1], c='y', marker='x', label='map_crosswalk' if j == 0 else \"\", alpha=0.5)\n",
    "\n",
    "for j in range(len(route_lane)):\n",
    "    if route_lane[j].shape[0] == 0:\n",
    "        continue\n",
    "    plt.scatter(route_lane[j][:, 0], route_lane[j][:, 1], c='b', marker='x', label='route_lane' if j == 0 else \"\", alpha=0.5)\n",
    "\n",
    "# 周车轨迹\n",
    "for j in range(len(nbr_obs_traj)):\n",
    "    if nbr_obs_traj[j][0][0] == 0 or nbr_obs_traj[j][0][1] == 0:\n",
    "        continue\n",
    "    plt.plot(nbr_obs_traj[j, :, 0], nbr_obs_traj[j, :, 1], 'o-', label='nbr_obs_traj' if j == 0 else \"\", markersize=4, color='blue')\n",
    "\n",
    "for j in range(len(nbr_fut_traj)):\n",
    "    for k in range(len(nbr_fut_traj[j])):\n",
    "        if nbr_fut_val[j][k][0] == True and nbr_fut_val[j][k][1] == True:\n",
    "            plt.plot(nbr_fut_traj[j, k, 0], nbr_fut_traj[j, k, 1], 'o-', label='nbr_fut_traj' if j == 0 and k==0 else \"\", markersize=4, color='green')\n",
    "            plt.plot(pred_traj[j, k, 0], pred_traj[j, k, 1], 'o-', label='pred_traj' if j == 0 and k ==0 else \"\", markersize=4, color='orange')\n",
    "\n",
    "# plt.scatter(obs_traj[0, 0], obs_traj[0, 1], c='green', marker='o', label='obs_traj_start', s=100)\n",
    "\n",
    "# 自车轨迹\n",
    "plt.plot(obs_traj[:, 0], obs_traj[:, 1], 'o', label='obs_traj', markersize=4, color='red')\n",
    "plt.plot(fut_traj[:, 0], fut_traj[:, 1], '^', label='fut_traj', markersize=4, color='red')\n",
    "plt.plot(plan_traj[:, 0], plan_traj[:, 1], 'o', label='plan_traj', markersize=4, color='black')\n",
    "print('nbr number', len(pred_traj))\n",
    "\n",
    "\n",
    "plt.legend()\n",
    "plt.axis('equal')\n"
   ]
  },
  {
   "cell_type": "markdown",
   "metadata": {},
   "source": [
    "### Scenario vis"
   ]
  },
  {
   "cell_type": "code",
   "execution_count": 93,
   "metadata": {},
   "outputs": [
    {
     "data": {
      "text/html": [
       "<div class=\"bk-root\">\n",
       "        <a href=\"https://bokeh.org\" target=\"_blank\" class=\"bk-logo bk-logo-small bk-logo-notebook\"></a>\n",
       "        <span id=\"23680\">Loading BokehJS ...</span>\n",
       "    </div>\n"
      ]
     },
     "metadata": {},
     "output_type": "display_data"
    },
    {
     "data": {
      "application/javascript": "(function(root) {\n  function now() {\n    return new Date();\n  }\n\n  const force = true;\n\n  if (typeof root._bokeh_onload_callbacks === \"undefined\" || force === true) {\n    root._bokeh_onload_callbacks = [];\n    root._bokeh_is_loading = undefined;\n  }\n\nconst JS_MIME_TYPE = 'application/javascript';\n  const HTML_MIME_TYPE = 'text/html';\n  const EXEC_MIME_TYPE = 'application/vnd.bokehjs_exec.v0+json';\n  const CLASS_NAME = 'output_bokeh rendered_html';\n\n  /**\n   * Render data to the DOM node\n   */\n  function render(props, node) {\n    const script = document.createElement(\"script\");\n    node.appendChild(script);\n  }\n\n  /**\n   * Handle when an output is cleared or removed\n   */\n  function handleClearOutput(event, handle) {\n    const cell = handle.cell;\n\n    const id = cell.output_area._bokeh_element_id;\n    const server_id = cell.output_area._bokeh_server_id;\n    // Clean up Bokeh references\n    if (id != null && id in Bokeh.index) {\n      Bokeh.index[id].model.document.clear();\n      delete Bokeh.index[id];\n    }\n\n    if (server_id !== undefined) {\n      // Clean up Bokeh references\n      const cmd_clean = \"from bokeh.io.state import curstate; print(curstate().uuid_to_server['\" + server_id + \"'].get_sessions()[0].document.roots[0]._id)\";\n      cell.notebook.kernel.execute(cmd_clean, {\n        iopub: {\n          output: function(msg) {\n            const id = msg.content.text.trim();\n            if (id in Bokeh.index) {\n              Bokeh.index[id].model.document.clear();\n              delete Bokeh.index[id];\n            }\n          }\n        }\n      });\n      // Destroy server and session\n      const cmd_destroy = \"import bokeh.io.notebook as ion; ion.destroy_server('\" + server_id + \"')\";\n      cell.notebook.kernel.execute(cmd_destroy);\n    }\n  }\n\n  /**\n   * Handle when a new output is added\n   */\n  function handleAddOutput(event, handle) {\n    const output_area = handle.output_area;\n    const output = handle.output;\n\n    // limit handleAddOutput to display_data with EXEC_MIME_TYPE content only\n    if ((output.output_type != \"display_data\") || (!Object.prototype.hasOwnProperty.call(output.data, EXEC_MIME_TYPE))) {\n      return\n    }\n\n    const toinsert = output_area.element.find(\".\" + CLASS_NAME.split(' ')[0]);\n\n    if (output.metadata[EXEC_MIME_TYPE][\"id\"] !== undefined) {\n      toinsert[toinsert.length - 1].firstChild.textContent = output.data[JS_MIME_TYPE];\n      // store reference to embed id on output_area\n      output_area._bokeh_element_id = output.metadata[EXEC_MIME_TYPE][\"id\"];\n    }\n    if (output.metadata[EXEC_MIME_TYPE][\"server_id\"] !== undefined) {\n      const bk_div = document.createElement(\"div\");\n      bk_div.innerHTML = output.data[HTML_MIME_TYPE];\n      const script_attrs = bk_div.children[0].attributes;\n      for (let i = 0; i < script_attrs.length; i++) {\n        toinsert[toinsert.length - 1].firstChild.setAttribute(script_attrs[i].name, script_attrs[i].value);\n        toinsert[toinsert.length - 1].firstChild.textContent = bk_div.children[0].textContent\n      }\n      // store reference to server id on output_area\n      output_area._bokeh_server_id = output.metadata[EXEC_MIME_TYPE][\"server_id\"];\n    }\n  }\n\n  function register_renderer(events, OutputArea) {\n\n    function append_mime(data, metadata, element) {\n      // create a DOM node to render to\n      const toinsert = this.create_output_subarea(\n        metadata,\n        CLASS_NAME,\n        EXEC_MIME_TYPE\n      );\n      this.keyboard_manager.register_events(toinsert);\n      // Render to node\n      const props = {data: data, metadata: metadata[EXEC_MIME_TYPE]};\n      render(props, toinsert[toinsert.length - 1]);\n      element.append(toinsert);\n      return toinsert\n    }\n\n    /* Handle when an output is cleared or removed */\n    events.on('clear_output.CodeCell', handleClearOutput);\n    events.on('delete.Cell', handleClearOutput);\n\n    /* Handle when a new output is added */\n    events.on('output_added.OutputArea', handleAddOutput);\n\n    /**\n     * Register the mime type and append_mime function with output_area\n     */\n    OutputArea.prototype.register_mime_type(EXEC_MIME_TYPE, append_mime, {\n      /* Is output safe? */\n      safe: true,\n      /* Index of renderer in `output_area.display_order` */\n      index: 0\n    });\n  }\n\n  // register the mime type if in Jupyter Notebook environment and previously unregistered\n  if (root.Jupyter !== undefined) {\n    const events = require('base/js/events');\n    const OutputArea = require('notebook/js/outputarea').OutputArea;\n\n    if (OutputArea.prototype.mime_types().indexOf(EXEC_MIME_TYPE) == -1) {\n      register_renderer(events, OutputArea);\n    }\n  }\n  if (typeof (root._bokeh_timeout) === \"undefined\" || force === true) {\n    root._bokeh_timeout = Date.now() + 5000;\n    root._bokeh_failed_load = false;\n  }\n\n  const NB_LOAD_WARNING = {'data': {'text/html':\n     \"<div style='background-color: #fdd'>\\n\"+\n     \"<p>\\n\"+\n     \"BokehJS does not appear to have successfully loaded. If loading BokehJS from CDN, this \\n\"+\n     \"may be due to a slow or bad network connection. Possible fixes:\\n\"+\n     \"</p>\\n\"+\n     \"<ul>\\n\"+\n     \"<li>re-rerun `output_notebook()` to attempt to load from CDN again, or</li>\\n\"+\n     \"<li>use INLINE resources instead, as so:</li>\\n\"+\n     \"</ul>\\n\"+\n     \"<code>\\n\"+\n     \"from bokeh.resources import INLINE\\n\"+\n     \"output_notebook(resources=INLINE)\\n\"+\n     \"</code>\\n\"+\n     \"</div>\"}};\n\n  function display_loaded() {\n    const el = document.getElementById(\"23680\");\n    if (el != null) {\n      el.textContent = \"BokehJS is loading...\";\n    }\n    if (root.Bokeh !== undefined) {\n      if (el != null) {\n        el.textContent = \"BokehJS \" + root.Bokeh.version + \" successfully loaded.\";\n      }\n    } else if (Date.now() < root._bokeh_timeout) {\n      setTimeout(display_loaded, 100)\n    }\n  }\n\n  function run_callbacks() {\n    try {\n      root._bokeh_onload_callbacks.forEach(function(callback) {\n        if (callback != null)\n          callback();\n      });\n    } finally {\n      delete root._bokeh_onload_callbacks\n    }\n    console.debug(\"Bokeh: all callbacks have finished\");\n  }\n\n  function load_libs(css_urls, js_urls, callback) {\n    if (css_urls == null) css_urls = [];\n    if (js_urls == null) js_urls = [];\n\n    root._bokeh_onload_callbacks.push(callback);\n    if (root._bokeh_is_loading > 0) {\n      console.debug(\"Bokeh: BokehJS is being loaded, scheduling callback at\", now());\n      return null;\n    }\n    if (js_urls == null || js_urls.length === 0) {\n      run_callbacks();\n      return null;\n    }\n    console.debug(\"Bokeh: BokehJS not loaded, scheduling load and callback at\", now());\n    root._bokeh_is_loading = css_urls.length + js_urls.length;\n\n    function on_load() {\n      root._bokeh_is_loading--;\n      if (root._bokeh_is_loading === 0) {\n        console.debug(\"Bokeh: all BokehJS libraries/stylesheets loaded\");\n        run_callbacks()\n      }\n    }\n\n    function on_error(url) {\n      console.error(\"failed to load \" + url);\n    }\n\n    for (let i = 0; i < css_urls.length; i++) {\n      const url = css_urls[i];\n      const element = document.createElement(\"link\");\n      element.onload = on_load;\n      element.onerror = on_error.bind(null, url);\n      element.rel = \"stylesheet\";\n      element.type = \"text/css\";\n      element.href = url;\n      console.debug(\"Bokeh: injecting link tag for BokehJS stylesheet: \", url);\n      document.body.appendChild(element);\n    }\n\n    for (let i = 0; i < js_urls.length; i++) {\n      const url = js_urls[i];\n      const element = document.createElement('script');\n      element.onload = on_load;\n      element.onerror = on_error.bind(null, url);\n      element.async = false;\n      element.src = url;\n      console.debug(\"Bokeh: injecting script tag for BokehJS library: \", url);\n      document.head.appendChild(element);\n    }\n  };\n\n  function inject_raw_css(css) {\n    const element = document.createElement(\"style\");\n    element.appendChild(document.createTextNode(css));\n    document.body.appendChild(element);\n  }\n\n  const js_urls = [\"https://cdn.bokeh.org/bokeh/release/bokeh-2.4.3.min.js\", \"https://cdn.bokeh.org/bokeh/release/bokeh-gl-2.4.3.min.js\", \"https://cdn.bokeh.org/bokeh/release/bokeh-widgets-2.4.3.min.js\", \"https://cdn.bokeh.org/bokeh/release/bokeh-tables-2.4.3.min.js\", \"https://cdn.bokeh.org/bokeh/release/bokeh-mathjax-2.4.3.min.js\"];\n  const css_urls = [];\n\n  const inline_js = [    function(Bokeh) {\n      Bokeh.set_log_level(\"info\");\n    },\nfunction(Bokeh) {\n    }\n  ];\n\n  function run_inline_js() {\n    if (root.Bokeh !== undefined || force === true) {\n          for (let i = 0; i < inline_js.length; i++) {\n      inline_js[i].call(root, root.Bokeh);\n    }\nif (force === true) {\n        display_loaded();\n      }} else if (Date.now() < root._bokeh_timeout) {\n      setTimeout(run_inline_js, 100);\n    } else if (!root._bokeh_failed_load) {\n      console.log(\"Bokeh: BokehJS failed to load within specified timeout.\");\n      root._bokeh_failed_load = true;\n    } else if (force !== true) {\n      const cell = $(document.getElementById(\"23680\")).parents('.cell').data().cell;\n      cell.output_area.append_execute_result(NB_LOAD_WARNING)\n    }\n  }\n\n  if (root._bokeh_is_loading === 0) {\n    console.debug(\"Bokeh: BokehJS loaded, going straight to plotting\");\n    run_inline_js();\n  } else {\n    load_libs(css_urls, js_urls, function() {\n      console.debug(\"Bokeh: BokehJS plotting callback run at\", now());\n      run_inline_js();\n    });\n  }\n}(window));",
      "application/vnd.bokehjs_load.v0+json": ""
     },
     "metadata": {},
     "output_type": "display_data"
    },
    {
     "data": {
      "application/vnd.jupyter.widget-view+json": {
       "model_id": "3b0fb95dcbba4922accb559c8fd888a6",
       "version_major": 2,
       "version_minor": 0
      },
      "text/plain": [
       "Dropdown(description='Scenario', options=('accelerating_at_stop_sign', 'following_lane_without_lead', 'high_la…"
      ]
     },
     "metadata": {},
     "output_type": "display_data"
    },
    {
     "data": {
      "application/vnd.jupyter.widget-view+json": {
       "model_id": "c9cc768a3bbe4c7e8cb1a44ce962b5ee",
       "version_major": 2,
       "version_minor": 0
      },
      "text/plain": [
       "Output()"
      ]
     },
     "metadata": {},
     "output_type": "display_data"
    }
   ],
   "source": [
    "from bokeh.io import output_notebook\n",
    "from tutorials.utils.tutorial_utils import visualize_nuplan_scenarios, setup_notebook\n",
    "\n",
    "setup_notebook()\n",
    "output_notebook()\n",
    "\n",
    "file_path = f'/data/fyy/GameFormer-Planner/nuplan/dataset/data/cache/train_boston/{log_name}.db'\n",
    "\n",
    "\n",
    "NUPLAN_DATA_ROOT = os.getenv('NUPLAN_DATA_ROOT', 'nuplan')\n",
    "NUPLAN_MAPS_ROOT = os.getenv('NUPLAN_MAPS_ROOT', 'nuplan/dataset/maps')\n",
    "NUPLAN_DB_FILES = os.getenv('NUPLAN_DB_FILES', file_path)\n",
    "NUPLAN_MAP_VERSION = os.getenv('NUPLAN_MAP_VERSION', 'nuplan-maps-v1.0')\n",
    "\n",
    "visualize_nuplan_scenarios(\n",
    "    data_root=NUPLAN_DATA_ROOT,\n",
    "    db_files=NUPLAN_DB_FILES,\n",
    "    map_root=NUPLAN_MAPS_ROOT,\n",
    "    map_version=NUPLAN_MAP_VERSION,\n",
    "    bokeh_port=1237,  # This controls the port bokeh uses when generating the visualization -- if you are running\n",
    "                     # the notebook on a remote instance, you'll need to make sure to port-forward it.\n",
    "    token=token)   # 这里指定token, 需要修改tutorial_utils.py"
   ]
  }
 ],
 "metadata": {
  "kernelspec": {
   "display_name": "nuplan",
   "language": "python",
   "name": "python3"
  },
  "language_info": {
   "codemirror_mode": {
    "name": "ipython",
    "version": 3
   },
   "file_extension": ".py",
   "mimetype": "text/x-python",
   "name": "python",
   "nbconvert_exporter": "python",
   "pygments_lexer": "ipython3",
   "version": "3.9.18"
  }
 },
 "nbformat": 4,
 "nbformat_minor": 2
}
